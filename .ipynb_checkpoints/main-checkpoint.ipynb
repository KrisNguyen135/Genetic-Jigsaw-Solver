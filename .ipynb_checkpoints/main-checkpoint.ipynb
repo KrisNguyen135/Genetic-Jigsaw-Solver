{
 "cells": [
  {
   "cell_type": "code",
   "execution_count": 1,
   "metadata": {},
   "outputs": [],
   "source": [
    "import numpy as np; np.random.seed(0)\n",
    "import skimage\n",
    "\n",
    "from main import generate_puzzle"
   ]
  },
  {
   "cell_type": "code",
   "execution_count": 2,
   "metadata": {},
   "outputs": [],
   "source": [
    "N_SEGMENTS = 2"
   ]
  },
  {
   "cell_type": "code",
   "execution_count": 3,
   "metadata": {},
   "outputs": [],
   "source": [
    "img = skimage.io.imread('pictures/michelangelo-creation-of-adam.jpg')"
   ]
  },
  {
   "cell_type": "code",
   "execution_count": 4,
   "metadata": {},
   "outputs": [
    {
     "name": "stdout",
     "output_type": "stream",
     "text": [
      "[[0.51364221 0.65376039 0.64649936 ... 0.65347417 0.56350787 0.50466902]\n",
      " [0.55884395 0.52434863 0.50982657 ... 0.61280321 0.59425235 0.63633262]\n",
      " [0.5987863  0.61479076 0.50696199 ... 0.53628667 0.58057282 0.55269292]\n",
      " ...\n",
      " [0.74733706 0.83426464 0.52226659 ... 0.25144969 0.17864026 0.21195827]\n",
      " [0.74367808 0.89653107 0.4970905  ... 0.20683341 0.19822434 0.17178439]\n",
      " [0.73618993 0.83518502 0.56949262 ... 0.18585868 0.15068711 0.28844752]]\n",
      "[[0.81579953 0.69780409 0.45618556 ... 0.25371277 0.1486423  0.18928262]\n",
      " [0.71462629 0.8814438  0.51360607 ... 0.14272942 0.15737403 0.19268347]\n",
      " [0.52424609 0.72397369 0.52776206 ... 0.22200846 0.18433995 0.17793676]\n",
      " ...\n",
      " [0.48393985 0.42277257 0.25768406 ... 0.66363888 0.5162769  0.58315802]\n",
      " [0.56466081 0.20340162 0.61483804 ... 0.61354338 0.61240351 0.64448233]\n",
      " [0.51336669 0.47219022 0.95555782 ... 0.57507753 0.63995192 0.536225  ]]\n",
      "[[0.17932264 0.27022625 0.15006694 ... 0.43124512 0.44458436 0.54091252]\n",
      " [0.17086963 0.17904978 0.1587526  ... 0.47113483 0.6022884  0.61945113]\n",
      " [0.13117358 0.1800825  0.12344243 ... 0.45450318 0.60391117 0.60872669]\n",
      " ...\n",
      " [0.64026032 0.6507689  0.56751216 ... 0.31874076 0.39434136 0.38531869]\n",
      " [0.58851196 0.59382752 0.51686674 ... 0.31551057 0.28801716 0.33967157]\n",
      " [0.55468304 0.71680007 0.55789995 ... 0.34851228 0.28084469 0.2926094 ]]\n",
      "[[0.70345532 0.7045123  0.58959196 ... 0.1670474  0.1779849  0.1449273 ]\n",
      " [0.54901921 0.66593097 0.57789482 ... 0.16824225 0.12049409 0.2246148 ]\n",
      " [0.55297914 0.59112252 0.55585904 ... 0.1226387  0.10842301 0.11810439]\n",
      " ...\n",
      " [0.17841109 0.20557322 0.15338189 ... 0.49318654 0.43640599 0.55855754]\n",
      " [0.17276348 0.194926   0.13872751 ... 0.49490934 0.5496323  0.49824007]\n",
      " [0.21341559 0.157426   0.18120971 ... 0.53406375 0.49811576 0.453525  ]]\n",
      "(4, 384, 384)\n"
     ]
    },
    {
     "name": "stderr",
     "output_type": "stream",
     "text": [
      "/Users/quannguyen/Documents/python/genetic_jigsaw/lib/python3.7/site-packages/skimage/transform/_warps.py:105: UserWarning: The default mode, 'constant', will be changed to 'reflect' in skimage 0.15.\n",
      "  warn(\"The default mode, 'constant', will be changed to 'reflect' in \"\n"
     ]
    }
   ],
   "source": [
    "pieces = generate_puzzle(img, n_segments=N_SEGMENTS)\n",
    "for piece in pieces:\n",
    "    print(piece)\n",
    "print(pieces.shape)"
   ]
  },
  {
   "cell_type": "code",
   "execution_count": 5,
   "metadata": {},
   "outputs": [
    {
     "name": "stdout",
     "output_type": "stream",
     "text": [
      "[[0.51364221 0.65376039 0.64649936 ... 0.65347417 0.56350787 0.50466902]\n",
      " [0.50466902 0.63633262 0.55269292 ... 0.21195827 0.17178439 0.28844752]\n",
      " [0.73618993 0.83518502 0.56949262 ... 0.18585868 0.15068711 0.28844752]\n",
      " [0.51364221 0.55884395 0.5987863  ... 0.74733706 0.74367808 0.73618993]]\n",
      "[[0.81579953 0.69780409 0.45618556 ... 0.25371277 0.1486423  0.18928262]\n",
      " [0.18928262 0.19268347 0.17793676 ... 0.58315802 0.64448233 0.536225  ]\n",
      " [0.51336669 0.47219022 0.95555782 ... 0.57507753 0.63995192 0.536225  ]\n",
      " [0.81579953 0.71462629 0.52424609 ... 0.48393985 0.56466081 0.51336669]]\n",
      "[[0.17932264 0.27022625 0.15006694 ... 0.43124512 0.44458436 0.54091252]\n",
      " [0.54091252 0.61945113 0.60872669 ... 0.38531869 0.33967157 0.2926094 ]\n",
      " [0.55468304 0.71680007 0.55789995 ... 0.34851228 0.28084469 0.2926094 ]\n",
      " [0.17932264 0.17086963 0.13117358 ... 0.64026032 0.58851196 0.55468304]]\n",
      "[[0.70345532 0.7045123  0.58959196 ... 0.1670474  0.1779849  0.1449273 ]\n",
      " [0.1449273  0.2246148  0.11810439 ... 0.55855754 0.49824007 0.453525  ]\n",
      " [0.21341559 0.157426   0.18120971 ... 0.53406375 0.49811576 0.453525  ]\n",
      " [0.70345532 0.54901921 0.55297914 ... 0.17841109 0.17276348 0.21341559]]\n",
      "(4, 4, 384)\n"
     ]
    }
   ],
   "source": [
    "piece_edges = np.array([np.array([\n",
    "    piece[0, :],\n",
    "    piece[:, -1],\n",
    "    piece[-1, :],\n",
    "    piece[:, 0]\n",
    "]) for piece in pieces])\n",
    "\n",
    "for piece in piece_edges:\n",
    "    print(piece)\n",
    "print(piece_edges.shape)"
   ]
  },
  {
   "cell_type": "code",
   "execution_count": 15,
   "metadata": {},
   "outputs": [],
   "source": [
    "def generate_init_pop(piece_edges, n_segments, pop_size=100):\n",
    "    # indices to keep track of in each individual\n",
    "    indices = np.arange(len(piece_edges))\n",
    "\n",
    "    pop = []\n",
    "    for i in range(pop_size):\n",
    "        # shuffling the indices and creating an individual with shuffled edges\n",
    "        shuffled_indices = np.random.permutation(indices)\n",
    "\n",
    "        #individual = np.array([piece_edges[index] for index in shuffled_indices])\n",
    "        #rotation = np.random.randint(0, 4)\n",
    "        #individual = np.roll(individual, rotation)\n",
    "        individual = []\n",
    "        rotations = []\n",
    "        for index in shuffled_indices:\n",
    "            rotation = np.random.randint(0, 4)\n",
    "            rotations.append(rotation)\n",
    "            rotated_piece_edges = np.roll(piece_edges[index], rotation, axis=0)\n",
    "            #print(rotated_piece_edges)\n",
    "            #print(rotated_piece_edges.shape)\n",
    "            individual.append(rotated_piece_edges)\n",
    "\n",
    "        # reshaping the indices and individual\n",
    "        shuffled_indices = shuffled_indices.reshape((n_segments, n_segments))\n",
    "        individual = np.array(individual).reshape((n_segments, n_segments, 4, -1))\n",
    "        rotations = np.array(rotations).reshape((n_segments, n_segments))\n",
    "\n",
    "        pop.append((individual, shuffled_indices, rotations))\n",
    "\n",
    "    return pop"
   ]
  },
  {
   "cell_type": "code",
   "execution_count": 16,
   "metadata": {},
   "outputs": [
    {
     "name": "stdout",
     "output_type": "stream",
     "text": [
      "--------------------------------------------------\n",
      "[[[[0.51364221 0.65376039 0.64649936 ... 0.65347417 0.56350787\n",
      "    0.50466902]\n",
      "   [0.50466902 0.63633262 0.55269292 ... 0.21195827 0.17178439\n",
      "    0.28844752]\n",
      "   [0.73618993 0.83518502 0.56949262 ... 0.18585868 0.15068711\n",
      "    0.28844752]\n",
      "   [0.51364221 0.55884395 0.5987863  ... 0.74733706 0.74367808\n",
      "    0.73618993]]\n",
      "\n",
      "  [[0.70345532 0.7045123  0.58959196 ... 0.1670474  0.1779849\n",
      "    0.1449273 ]\n",
      "   [0.1449273  0.2246148  0.11810439 ... 0.55855754 0.49824007\n",
      "    0.453525  ]\n",
      "   [0.21341559 0.157426   0.18120971 ... 0.53406375 0.49811576\n",
      "    0.453525  ]\n",
      "   [0.70345532 0.54901921 0.55297914 ... 0.17841109 0.17276348\n",
      "    0.21341559]]]\n",
      "\n",
      "\n",
      " [[[0.17932264 0.17086963 0.13117358 ... 0.64026032 0.58851196\n",
      "    0.55468304]\n",
      "   [0.17932264 0.27022625 0.15006694 ... 0.43124512 0.44458436\n",
      "    0.54091252]\n",
      "   [0.54091252 0.61945113 0.60872669 ... 0.38531869 0.33967157\n",
      "    0.2926094 ]\n",
      "   [0.55468304 0.71680007 0.55789995 ... 0.34851228 0.28084469\n",
      "    0.2926094 ]]\n",
      "\n",
      "  [[0.81579953 0.69780409 0.45618556 ... 0.25371277 0.1486423\n",
      "    0.18928262]\n",
      "   [0.18928262 0.19268347 0.17793676 ... 0.58315802 0.64448233\n",
      "    0.536225  ]\n",
      "   [0.51336669 0.47219022 0.95555782 ... 0.57507753 0.63995192\n",
      "    0.536225  ]\n",
      "   [0.81579953 0.71462629 0.52424609 ... 0.48393985 0.56466081\n",
      "    0.51336669]]]]\n",
      "(2, 2, 4, 384)\n",
      "[[0 3]\n",
      " [2 1]]\n",
      "[[0 0]\n",
      " [1 0]]\n"
     ]
    }
   ],
   "source": [
    "init_pop = generate_init_pop(piece_edges, N_SEGMENTS, pop_size=1)\n",
    "first_ind = init_pop[0]\n",
    "print('-' * 50)\n",
    "print(first_ind[0])\n",
    "print(first_ind[0].shape)\n",
    "print(first_ind[1])\n",
    "print(first_ind[2])"
   ]
  },
  {
   "cell_type": "code",
   "execution_count": null,
   "metadata": {},
   "outputs": [],
   "source": []
  }
 ],
 "metadata": {
  "kernelspec": {
   "display_name": "Python 3",
   "language": "python",
   "name": "python3"
  },
  "language_info": {
   "codemirror_mode": {
    "name": "ipython",
    "version": 3
   },
   "file_extension": ".py",
   "mimetype": "text/x-python",
   "name": "python",
   "nbconvert_exporter": "python",
   "pygments_lexer": "ipython3",
   "version": "3.7.0"
  }
 },
 "nbformat": 4,
 "nbformat_minor": 2
}
